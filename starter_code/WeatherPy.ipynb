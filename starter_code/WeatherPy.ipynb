{
 "cells": [
  {
   "cell_type": "markdown",
   "metadata": {},
   "source": [
    "# WeatherPy\n",
    "----\n",
    "\n",
    "#### Note\n",
    "* Instructions have been included for each segment. You do not have to follow them exactly, but they are included to help you think through the steps."
   ]
  },
  {
   "cell_type": "code",
   "execution_count": 2,
   "metadata": {
    "scrolled": true
   },
   "outputs": [
    {
     "name": "stdout",
     "output_type": "stream",
     "text": [
      "Requirement already satisfied: citipy in c:\\users\\jenna morehead\\anaconda3\\lib\\site-packages (0.0.5)\n",
      "Requirement already satisfied: kdtree>=0.12 in c:\\users\\jenna morehead\\anaconda3\\lib\\site-packages (from citipy) (0.16)\n"
     ]
    }
   ],
   "source": [
    "# Dependencies and Setup\n",
    "import matplotlib.pyplot as plt\n",
    "import pandas as pd\n",
    "import numpy as np\n",
    "import requests\n",
    "import time\n",
    "from scipy.stats import linregress\n",
    "\n",
    "# Import API key\n",
    "from api_keys import weather_api_key\n",
    "\n",
    "# Incorporated citipy to determine city based on latitude and longitude\n",
    "! pip install citipy\n",
    "from citipy import citipy\n",
    "\n",
    "# Output File (CSV)\n",
    "output_data_file = \"output_data/cities.csv\"\n",
    "\n",
    "# Range of latitudes and longitudes\n",
    "lat_range = (-90, 90)\n",
    "lng_range = (-180, 180)"
   ]
  },
  {
   "cell_type": "markdown",
   "metadata": {},
   "source": [
    "## Generate Cities List"
   ]
  },
  {
   "cell_type": "code",
   "execution_count": 4,
   "metadata": {},
   "outputs": [
    {
     "data": {
      "text/plain": [
       "616"
      ]
     },
     "execution_count": 4,
     "metadata": {},
     "output_type": "execute_result"
    }
   ],
   "source": [
    "# List for holding lat_lngs and cities\n",
    "lat_lngs = []\n",
    "cities = []\n",
    "\n",
    "# Create a set of random lat and lng combinations\n",
    "lats = np.random.uniform(lat_range[0], lat_range[1], size=1500)\n",
    "lngs = np.random.uniform(lng_range[0], lng_range[1], size=1500)\n",
    "lat_lngs = zip(lats, lngs)\n",
    "\n",
    "# Identify nearest city for each lat, lng combination\n",
    "for lat_lng in lat_lngs:\n",
    "    city = citipy.nearest_city(lat_lng[0], lat_lng[1]).city_name\n",
    "    \n",
    "    # If the city is unique, then add it to a our cities list\n",
    "    if city not in cities:\n",
    "        cities.append(city)\n",
    "\n",
    "# Print the city count to confirm sufficient count\n",
    "len(cities)"
   ]
  },
  {
   "cell_type": "code",
   "execution_count": 8,
   "metadata": {},
   "outputs": [
    {
     "name": "stdout",
     "output_type": "stream",
     "text": [
      "----------------------------------------------------------\n",
      "Start of Records\n",
      "----------------------------------------------------------\n",
      "City1 of 616 complete || bredasdorp\n",
      "City2 of 616 complete || cape town\n",
      "City3 of 616 complete || dikson\n",
      "City4 of 616 complete || zhezkazgan\n",
      "City5 of 616 complete || pandan\n",
      "City7 of 616 complete || busselton\n",
      "City9 of 616 complete || kahului\n",
      "City10 of 616 complete || tasiilaq\n",
      "City11 of 616 complete || punta arenas\n",
      "City12 of 616 complete || cockburn town\n",
      "City13 of 616 complete || ushuaia\n",
      "City15 of 616 complete || mataura\n",
      "City16 of 616 complete || airai\n",
      "City17 of 616 complete || ponta do sol\n",
      "City18 of 616 complete || adrar\n",
      "City19 of 616 complete || kaeo\n",
      "City21 of 616 complete || atuona\n",
      "City22 of 616 complete || la asuncion\n",
      "City24 of 616 complete || mataram\n",
      "City25 of 616 complete || ilulissat\n",
      "City26 of 616 complete || rikitea\n",
      "City27 of 616 complete || vaini\n",
      "City28 of 616 complete || east london\n",
      "City29 of 616 complete || bluff\n",
      "City31 of 616 complete || dalbandin\n",
      "City32 of 616 complete || hithadhoo\n",
      "City33 of 616 complete || bethel\n",
      "City34 of 616 complete || kapaa\n",
      "City35 of 616 complete || port alfred\n",
      "City36 of 616 complete || albany\n",
      "City37 of 616 complete || kimbe\n",
      "City38 of 616 complete || fairbanks\n",
      "City39 of 616 complete || inhambane\n",
      "City40 of 616 complete || charters towers\n",
      "City41 of 616 complete || marica\n",
      "City42 of 616 complete || narsaq\n",
      "City43 of 616 complete || laguna\n",
      "City44 of 616 complete || batangafo\n",
      "City45 of 616 complete || iquique\n",
      "City46 of 616 complete || saskylakh\n",
      "City47 of 616 complete || ustrzyki dolne\n",
      "City48 of 616 complete || marsh harbour\n",
      "City49 of 616 complete || porto velho\n",
      "City50 of 616 complete || lindas\n",
      "City51 of 616 complete || esperance\n",
      "City54 of 616 complete || bow island\n",
      "City55 of 616 complete || port blair\n",
      "City56 of 616 complete || arraial do cabo\n",
      "City57 of 616 complete || barrow\n",
      "City58 of 616 complete || necochea\n",
      "City59 of 616 complete || lilongwe\n",
      "City60 of 616 complete || kamaishi\n",
      "City61 of 616 complete || znamenskoye\n",
      "City62 of 616 complete || djambala\n",
      "City63 of 616 complete || sitka\n",
      "City64 of 616 complete || lagoa\n",
      "City65 of 616 complete || energetik\n",
      "City66 of 616 complete || bambous virieux\n",
      "City67 of 616 complete || les cayes\n",
      "City68 of 616 complete || carnarvon\n",
      "City69 of 616 complete || chuy\n",
      "City70 of 616 complete || orlik\n",
      "City71 of 616 complete || puerto ayora\n",
      "City72 of 616 complete || vila velha\n",
      "City73 of 616 complete || angarsk\n",
      "City74 of 616 complete || kaitangata\n",
      "City75 of 616 complete || tomatlan\n",
      "City76 of 616 complete || fortuna\n",
      "City77 of 616 complete || mahebourg\n",
      "City78 of 616 complete || castro\n",
      "City79 of 616 complete || volot\n",
      "City80 of 616 complete || mayo\n",
      "City81 of 616 complete || khandyga\n",
      "City82 of 616 complete || van\n",
      "City83 of 616 complete || emba\n",
      "City84 of 616 complete || klaksvik\n",
      "City85 of 616 complete || tiksi\n",
      "City87 of 616 complete || beloha\n",
      "City88 of 616 complete || luganville\n",
      "City89 of 616 complete || manakara\n",
      "City90 of 616 complete || butaritari\n",
      "City91 of 616 complete || surgut\n",
      "City92 of 616 complete || san patricio\n",
      "City93 of 616 complete || ancud\n",
      "City94 of 616 complete || presidencia roque saenz pena\n",
      "City95 of 616 complete || khatanga\n",
      "City96 of 616 complete || sungairaya\n",
      "City97 of 616 complete || tuatapere\n",
      "City98 of 616 complete || ixtapa\n",
      "City99 of 616 complete || paita\n",
      "City100 of 616 complete || axim\n",
      "City101 of 616 complete || luderitz\n",
      "City102 of 616 complete || hermanus\n",
      "City104 of 616 complete || elko\n",
      "City105 of 616 complete || cabo san lucas\n",
      "City106 of 616 complete || port elizabeth\n",
      "City107 of 616 complete || new norfolk\n",
      "City108 of 616 complete || fort nelson\n",
      "City109 of 616 complete || victoria\n",
      "City110 of 616 complete || panzhihua\n",
      "City111 of 616 complete || sorland\n",
      "City112 of 616 complete || gorin\n",
      "City113 of 616 complete || camacha\n",
      "City114 of 616 complete || valparaiso\n",
      "City115 of 616 complete || yurginskoye\n",
      "City116 of 616 complete || culfa\n",
      "City117 of 616 complete || constitucion\n",
      "City118 of 616 complete || taoudenni\n",
      "City119 of 616 complete || saldanha\n",
      "City120 of 616 complete || yatou\n",
      "City121 of 616 complete || bodden town\n",
      "City122 of 616 complete || saint-pierre\n",
      "City123 of 616 complete || mehamn\n",
      "City124 of 616 complete || mae hong son\n",
      "City125 of 616 complete || avarua\n",
      "City126 of 616 complete || yellowknife\n",
      "City127 of 616 complete || hilo\n",
      "City128 of 616 complete || ordynskoye\n",
      "City129 of 616 complete || takoradi\n",
      "City132 of 616 complete || iqaluit\n",
      "City133 of 616 complete || jamestown\n",
      "City134 of 616 complete || high prairie\n",
      "City135 of 616 complete || clyde river\n",
      "City136 of 616 complete || houma\n",
      "City137 of 616 complete || agde\n",
      "City138 of 616 complete || cidreira\n",
      "City139 of 616 complete || hobart\n",
      "City140 of 616 complete || olafsvik\n",
      "City141 of 616 complete || sao filipe\n",
      "City142 of 616 complete || arica\n",
      "City143 of 616 complete || pimenta bueno\n",
      "City144 of 616 complete || villa maria\n",
      "City145 of 616 complete || vardo\n",
      "City146 of 616 complete || kodiak\n",
      "City147 of 616 complete || salalah\n",
      "City148 of 616 complete || troitskoye\n",
      "City149 of 616 complete || pointe-noire\n",
      "City150 of 616 complete || dunedin\n",
      "City151 of 616 complete || saint george\n",
      "City152 of 616 complete || bousso\n",
      "City153 of 616 complete || kisangani\n",
      "City154 of 616 complete || qaanaaq\n",
      "City155 of 616 complete || te anau\n",
      "City156 of 616 complete || urumqi\n",
      "City157 of 616 complete || stepnyak\n",
      "City158 of 616 complete || sayyan\n",
      "City159 of 616 complete || tiznit\n",
      "City160 of 616 complete || newport\n",
      "City161 of 616 complete || nador\n",
      "City162 of 616 complete || matara\n",
      "City163 of 616 complete || asosa\n",
      "City165 of 616 complete || sola\n",
      "City166 of 616 complete || pevek\n",
      "City167 of 616 complete || rincon\n",
      "City168 of 616 complete || souillac\n",
      "City169 of 616 complete || ketchikan\n",
      "City170 of 616 complete || amapa\n",
      "City171 of 616 complete || gaya\n",
      "City172 of 616 complete || leningradskiy\n",
      "City173 of 616 complete || abu dhabi\n",
      "City174 of 616 complete || erechim\n",
      "City175 of 616 complete || huarmey\n",
      "City176 of 616 complete || kasempa\n",
      "City177 of 616 complete || namibe\n",
      "City178 of 616 complete || san quintin\n",
      "City180 of 616 complete || kiama\n",
      "City181 of 616 complete || mareeba\n",
      "City182 of 616 complete || vila franca do campo\n",
      "City183 of 616 complete || nekhayevskiy\n",
      "City185 of 616 complete || touros\n",
      "City186 of 616 complete || aykhal\n",
      "City187 of 616 complete || cedar city\n",
      "City189 of 616 complete || abonnema\n",
      "City190 of 616 complete || hamilton\n",
      "City191 of 616 complete || chapais\n",
      "City192 of 616 complete || poum\n",
      "City193 of 616 complete || manacapuru\n",
      "City194 of 616 complete || sterling\n",
      "City195 of 616 complete || kavaratti\n",
      "City196 of 616 complete || san cristobal\n",
      "City197 of 616 complete || provideniya\n",
      "City198 of 616 complete || karratha\n",
      "City199 of 616 complete || lebu\n",
      "City200 of 616 complete || dawei\n",
      "City201 of 616 complete || grindavik\n",
      "City202 of 616 complete || lorengau\n",
      "City203 of 616 complete || makakilo city\n",
      "City205 of 616 complete || saint-philippe\n",
      "City206 of 616 complete || guerrero negro\n",
      "City207 of 616 complete || codrington\n",
      "City208 of 616 complete || upernavik\n",
      "City209 of 616 complete || coquimbo\n",
      "City210 of 616 complete || chokurdakh\n",
      "City211 of 616 complete || arsk\n",
      "City213 of 616 complete || savantvadi\n",
      "City214 of 616 complete || spirit river\n",
      "City215 of 616 complete || padang\n",
      "City217 of 616 complete || kaliua\n",
      "City218 of 616 complete || ikwiriri\n",
      "City220 of 616 complete || mekhe\n",
      "City221 of 616 complete || riyadh\n",
      "City222 of 616 complete || nikolskoye\n",
      "City224 of 616 complete || belmonte\n",
      "City225 of 616 complete || bereda\n",
      "City226 of 616 complete || guaymas\n",
      "City227 of 616 complete || ulladulla\n",
      "City228 of 616 complete || cayenne\n",
      "City229 of 616 complete || kosovska mitrovica\n",
      "City230 of 616 complete || longyan\n",
      "City231 of 616 complete || yaan\n",
      "City232 of 616 complete || sioux lookout\n",
      "City233 of 616 complete || rio grande\n",
      "City234 of 616 complete || bandarbeyla\n",
      "City235 of 616 complete || itoman\n",
      "City236 of 616 complete || tura\n",
      "City237 of 616 complete || madridejos\n",
      "City238 of 616 complete || chany\n",
      "City240 of 616 complete || labranzagrande\n",
      "City241 of 616 complete || saint-benoit\n",
      "City242 of 616 complete || shimoda\n",
      "City243 of 616 complete || oussouye\n",
      "City245 of 616 complete || aguachica\n",
      "City246 of 616 complete || maningrida\n",
      "City247 of 616 complete || shache\n",
      "City248 of 616 complete || charlestown\n"
     ]
    },
    {
     "name": "stdout",
     "output_type": "stream",
     "text": [
      "City249 of 616 complete || najran\n",
      "City250 of 616 complete || cacador\n",
      "City252 of 616 complete || faya\n",
      "City253 of 616 complete || arroyo\n",
      "City254 of 616 complete || mildura\n",
      "City255 of 616 complete || palmer\n",
      "City256 of 616 complete || odweyne\n",
      "City257 of 616 complete || brae\n",
      "City258 of 616 complete || borogontsy\n",
      "City259 of 616 complete || norman wells\n",
      "City260 of 616 complete || awbari\n",
      "City261 of 616 complete || flin flon\n",
      "City262 of 616 complete || thompson\n",
      "City263 of 616 complete || quimper\n",
      "City264 of 616 complete || sawtell\n",
      "City265 of 616 complete || senigallia\n",
      "City266 of 616 complete || pisco\n",
      "City271 of 616 complete || pontes e lacerda\n",
      "City272 of 616 complete || loa janan\n",
      "City273 of 616 complete || kikwit\n",
      "City274 of 616 complete || dickinson\n",
      "City275 of 616 complete || hinckley\n",
      "City276 of 616 complete || mar del plata\n",
      "City277 of 616 complete || ziro\n",
      "City278 of 616 complete || xixiang\n",
      "City279 of 616 complete || evensk\n",
      "City280 of 616 complete || faanui\n",
      "City281 of 616 complete || baherden\n",
      "City282 of 616 complete || atasu\n",
      "City283 of 616 complete || loanda\n",
      "City284 of 616 complete || tuktoyaktuk\n",
      "City285 of 616 complete || zhanaozen\n",
      "City286 of 616 complete || uvira\n",
      "City287 of 616 complete || hervey bay\n",
      "City288 of 616 complete || udachnyy\n",
      "City289 of 616 complete || los llanos de aridane\n",
      "City290 of 616 complete || agartala\n",
      "City291 of 616 complete || longyearbyen\n",
      "City292 of 616 complete || puerto colombia\n",
      "City293 of 616 complete || treinta y tres\n",
      "City294 of 616 complete || banda aceh\n",
      "City295 of 616 complete || ulverstone\n",
      "City296 of 616 complete || shingu\n",
      "City297 of 616 complete || monrovia\n",
      "City298 of 616 complete || hayden\n",
      "City299 of 616 complete || acapulco\n",
      "City300 of 616 complete || general roca\n",
      "City301 of 616 complete || georgetown\n",
      "City302 of 616 complete || pangnirtung\n",
      "City303 of 616 complete || mumford\n",
      "City304 of 616 complete || marzuq\n",
      "City305 of 616 complete || muros\n",
      "City306 of 616 complete || dukat\n",
      "City307 of 616 complete || gayny\n",
      "City308 of 616 complete || inongo\n",
      "City309 of 616 complete || pitimbu\n",
      "City311 of 616 complete || gouyave\n",
      "City312 of 616 complete || bengkulu\n",
      "City313 of 616 complete || baykit\n",
      "City314 of 616 complete || inuvik\n",
      "City315 of 616 complete || oudtshoorn\n",
      "City316 of 616 complete || lompoc\n",
      "City317 of 616 complete || dalvik\n",
      "City318 of 616 complete || kavieng\n",
      "City319 of 616 complete || derzhavinsk\n",
      "City320 of 616 complete || eidsvag\n",
      "City321 of 616 complete || vostok\n",
      "City322 of 616 complete || sao felix do xingu\n",
      "City323 of 616 complete || santa rosa\n",
      "City324 of 616 complete || parabel\n",
      "City325 of 616 complete || naze\n",
      "City326 of 616 complete || haines junction\n",
      "City327 of 616 complete || ankpa\n",
      "City328 of 616 complete || sinnamary\n",
      "City329 of 616 complete || tigil\n",
      "City330 of 616 complete || dongsheng\n",
      "City331 of 616 complete || mount gambier\n",
      "City332 of 616 complete || kristiansund\n",
      "City333 of 616 complete || ierapetra\n",
      "City334 of 616 complete || san ignacio\n",
      "City335 of 616 complete || aguilas\n",
      "City337 of 616 complete || bathsheba\n",
      "City338 of 616 complete || cap estate\n",
      "City339 of 616 complete || talnakh\n",
      "City340 of 616 complete || zeya\n",
      "City341 of 616 complete || antofagasta\n",
      "City342 of 616 complete || luoyang\n",
      "City343 of 616 complete || inta\n",
      "City344 of 616 complete || anloga\n",
      "City345 of 616 complete || chanderi\n",
      "City346 of 616 complete || hami\n",
      "City347 of 616 complete || payakumbuh\n",
      "City348 of 616 complete || weatherford\n",
      "City349 of 616 complete || vao\n",
      "City350 of 616 complete || katsuura\n",
      "City351 of 616 complete || amanganj\n",
      "City352 of 616 complete || kandrian\n",
      "City353 of 616 complete || hofn\n",
      "City354 of 616 complete || liverpool\n",
      "City355 of 616 complete || craig\n",
      "City356 of 616 complete || taretan\n",
      "City357 of 616 complete || dosso\n",
      "City358 of 616 complete || itarema\n",
      "City359 of 616 complete || ust-nera\n",
      "City360 of 616 complete || changli\n",
      "City361 of 616 complete || sakakah\n",
      "City362 of 616 complete || lianzhou\n",
      "City365 of 616 complete || pinega\n",
      "City366 of 616 complete || darhan\n",
      "City367 of 616 complete || coihaique\n",
      "City368 of 616 complete || bushenyi\n",
      "City370 of 616 complete || mogadishu\n",
      "City371 of 616 complete || dusi\n",
      "City372 of 616 complete || bradford\n",
      "City373 of 616 complete || torbay\n",
      "City374 of 616 complete || qaqortoq\n",
      "City375 of 616 complete || nabire\n",
      "City376 of 616 complete || vanavara\n",
      "City378 of 616 complete || boyolangu\n",
      "City379 of 616 complete || knysna\n",
      "City380 of 616 complete || valera\n",
      "City381 of 616 complete || parkes\n",
      "City382 of 616 complete || jackson\n",
      "City383 of 616 complete || guasdualito\n",
      "City384 of 616 complete || palana\n",
      "City385 of 616 complete || nouadhibou\n",
      "City386 of 616 complete || aklavik\n",
      "City387 of 616 complete || ribeira grande\n",
      "City388 of 616 complete || rawlins\n",
      "City389 of 616 complete || radovitskiy\n",
      "City390 of 616 complete || kununurra\n",
      "City391 of 616 complete || voh\n",
      "City393 of 616 complete || sakete\n",
      "City394 of 616 complete || serramanna\n",
      "City395 of 616 complete || krasnoselkup\n",
      "City396 of 616 complete || hambantota\n",
      "City397 of 616 complete || ugoofaaru\n",
      "City398 of 616 complete || cabedelo\n",
      "City399 of 616 complete || moindou\n",
      "City400 of 616 complete || samoded\n",
      "City401 of 616 complete || behbahan\n",
      "City402 of 616 complete || maniitsoq\n",
      "City403 of 616 complete || roscrea\n",
      "City404 of 616 complete || tessalit\n",
      "City405 of 616 complete || muhlacker\n",
      "City406 of 616 complete || kalyazin\n",
      "City407 of 616 complete || sumbe\n",
      "City408 of 616 complete || springdale\n",
      "City409 of 616 complete || encruzilhada do sul\n",
      "City410 of 616 complete || chardara\n",
      "City411 of 616 complete || malinyi\n",
      "City412 of 616 complete || ostrovnoy\n",
      "City413 of 616 complete || lazaro cardenas\n",
      "City414 of 616 complete || nagtipunan\n",
      "City415 of 616 complete || cherskiy\n",
      "City416 of 616 complete || cortland\n",
      "City417 of 616 complete || kieta\n",
      "City419 of 616 complete || saint-augustin\n",
      "City420 of 616 complete || peterborough\n",
      "City421 of 616 complete || west plains\n",
      "City422 of 616 complete || sao miguel do araguaia\n",
      "City423 of 616 complete || gazojak\n",
      "City424 of 616 complete || hasaki\n",
      "City425 of 616 complete || saravan\n",
      "City426 of 616 complete || berlevag\n",
      "City427 of 616 complete || fare\n",
      "City429 of 616 complete || ghanzi\n",
      "City430 of 616 complete || praxedis guerrero\n",
      "City431 of 616 complete || petropavlovsk-kamchatskiy\n",
      "City432 of 616 complete || nauta\n",
      "City433 of 616 complete || meulaboh\n",
      "City434 of 616 complete || weligama\n",
      "City435 of 616 complete || half moon bay\n",
      "City436 of 616 complete || dunda\n",
      "City437 of 616 complete || alice springs\n",
      "City438 of 616 complete || manaure\n",
      "City439 of 616 complete || asekeyevo\n",
      "City440 of 616 complete || comodoro rivadavia\n",
      "City442 of 616 complete || itambe\n",
      "City443 of 616 complete || nhulunbuy\n",
      "City444 of 616 complete || gushikawa\n",
      "City445 of 616 complete || harper\n",
      "City446 of 616 complete || kozluk\n",
      "City448 of 616 complete || yerbogachen\n",
      "City449 of 616 complete || geraldton\n",
      "City450 of 616 complete || zarate\n",
      "City451 of 616 complete || kapit\n",
      "City452 of 616 complete || seoul\n",
      "City453 of 616 complete || hobyo\n",
      "City454 of 616 complete || safranbolu\n",
      "City457 of 616 complete || aksarka\n",
      "City458 of 616 complete || disna\n",
      "City459 of 616 complete || paranhos\n",
      "City460 of 616 complete || yarmouth\n",
      "City461 of 616 complete || pershotravneve\n",
      "City462 of 616 complete || clinton\n",
      "City463 of 616 complete || neryungri\n",
      "City464 of 616 complete || noumea\n",
      "City465 of 616 complete || northam\n",
      "City467 of 616 complete || gravdal\n",
      "City468 of 616 complete || menongue\n",
      "City469 of 616 complete || byron bay\n",
      "City470 of 616 complete || tommot\n",
      "City471 of 616 complete || kajaani\n",
      "City472 of 616 complete || pilar\n",
      "City473 of 616 complete || chingola\n",
      "City474 of 616 complete || deep river\n",
      "City475 of 616 complete || yanam\n",
      "City476 of 616 complete || puchezh\n",
      "City477 of 616 complete || yeniseysk\n",
      "City478 of 616 complete || mezhova\n",
      "City479 of 616 complete || iwanai\n",
      "City480 of 616 complete || grand gaube\n",
      "City481 of 616 complete || korem\n",
      "City482 of 616 complete || atambua\n",
      "City483 of 616 complete || kurduvadi\n",
      "City484 of 616 complete || fukuma\n",
      "City485 of 616 complete || lensk\n",
      "City486 of 616 complete || melnikovo\n",
      "City487 of 616 complete || banes\n",
      "City489 of 616 complete || pawa\n",
      "City490 of 616 complete || vestmannaeyjar\n",
      "City492 of 616 complete || kishtwar\n",
      "City493 of 616 complete || cartagena\n",
      "City494 of 616 complete || nemuro\n",
      "City495 of 616 complete || viedma\n",
      "City496 of 616 complete || saint anthony\n",
      "City497 of 616 complete || caravelas\n"
     ]
    },
    {
     "name": "stdout",
     "output_type": "stream",
     "text": [
      "City498 of 616 complete || nang rong\n",
      "City499 of 616 complete || alyangula\n",
      "City500 of 616 complete || gore\n",
      "City501 of 616 complete || along\n",
      "City502 of 616 complete || maloy\n",
      "City503 of 616 complete || zyryanka\n",
      "City504 of 616 complete || winnemucca\n",
      "City505 of 616 complete || chapleau\n",
      "City506 of 616 complete || pacific grove\n",
      "City507 of 616 complete || ondangwa\n",
      "City508 of 616 complete || nanyamba\n",
      "City509 of 616 complete || perth\n",
      "City510 of 616 complete || malkara\n",
      "City511 of 616 complete || mabaruma\n",
      "City512 of 616 complete || sand springs\n",
      "City513 of 616 complete || angoche\n",
      "City514 of 616 complete || piscu vechi\n",
      "City515 of 616 complete || kruisfontein\n",
      "City516 of 616 complete || california city\n",
      "City517 of 616 complete || cauquenes\n",
      "City518 of 616 complete || tavistock\n",
      "City519 of 616 complete || bilma\n",
      "City520 of 616 complete || firovo\n",
      "City521 of 616 complete || omagari\n",
      "City522 of 616 complete || mwanza\n",
      "City523 of 616 complete || zlatoust\n",
      "City524 of 616 complete || pandharpur\n",
      "City525 of 616 complete || pankrushikha\n",
      "City526 of 616 complete || san andres\n",
      "City527 of 616 complete || williston\n",
      "City528 of 616 complete || pamfila\n",
      "City529 of 616 complete || kushiro\n",
      "City530 of 616 complete || plaster rock\n",
      "City531 of 616 complete || saint-georges\n",
      "City532 of 616 complete || shimorskoye\n",
      "City533 of 616 complete || hare bay\n",
      "City534 of 616 complete || chengde\n",
      "City535 of 616 complete || moron\n",
      "City536 of 616 complete || portland\n",
      "City538 of 616 complete || bogorodskoye\n",
      "City539 of 616 complete || qingdao\n",
      "City540 of 616 complete || ozernovskiy\n",
      "City541 of 616 complete || marathon\n",
      "City542 of 616 complete || voyvozh\n",
      "City543 of 616 complete || changping\n",
      "City544 of 616 complete || fairmont\n",
      "City545 of 616 complete || sao joao da barra\n",
      "City546 of 616 complete || bubaque\n",
      "City547 of 616 complete || methoni\n",
      "City548 of 616 complete || sisimiut\n",
      "City549 of 616 complete || moree\n",
      "City550 of 616 complete || port-cartier\n",
      "City551 of 616 complete || puerto escondido\n",
      "City552 of 616 complete || yangambi\n",
      "City553 of 616 complete || la ronge\n",
      "City554 of 616 complete || scarborough\n",
      "City555 of 616 complete || colac\n",
      "City556 of 616 complete || bogdanovich\n",
      "City557 of 616 complete || sinop\n",
      "City558 of 616 complete || anastacio\n",
      "City559 of 616 complete || mitu\n",
      "City560 of 616 complete || tongchuan\n",
      "City561 of 616 complete || rawson\n",
      "City562 of 616 complete || seddon\n",
      "City563 of 616 complete || gazanjyk\n",
      "City564 of 616 complete || alofi\n",
      "City565 of 616 complete || port hardy\n",
      "City566 of 616 complete || cururupu\n",
      "City567 of 616 complete || kalmunai\n",
      "City568 of 616 complete || mulchen\n",
      "City569 of 616 complete || irun\n",
      "City571 of 616 complete || torrox\n",
      "City572 of 616 complete || nome\n",
      "City573 of 616 complete || trinidad\n",
      "City574 of 616 complete || kawalu\n",
      "City575 of 616 complete || burnie\n",
      "City576 of 616 complete || komsomolskiy\n",
      "City577 of 616 complete || pyay\n",
      "City578 of 616 complete || pathein\n",
      "City579 of 616 complete || le vauclin\n",
      "City580 of 616 complete || abu samrah\n",
      "City581 of 616 complete || severo-kurilsk\n",
      "City582 of 616 complete || pemangkat\n",
      "City583 of 616 complete || ocampo\n",
      "City584 of 616 complete || toro\n",
      "City585 of 616 complete || camana\n",
      "City586 of 616 complete || bulungu\n",
      "City587 of 616 complete || shilong\n",
      "City588 of 616 complete || ilave\n",
      "City589 of 616 complete || rovaniemi\n",
      "City590 of 616 complete || meadow lake\n",
      "City591 of 616 complete || tautira\n",
      "City592 of 616 complete || tuckahoe\n",
      "City593 of 616 complete || teknaf\n",
      "City594 of 616 complete || muromtsevo\n",
      "City595 of 616 complete || macamic\n",
      "City596 of 616 complete || el carmen de bolivar\n",
      "City597 of 616 complete || asau\n",
      "City598 of 616 complete || port lincoln\n",
      "City599 of 616 complete || ulaanbaatar\n",
      "City600 of 616 complete || sibut\n",
      "City601 of 616 complete || wawa\n",
      "City602 of 616 complete || amahai\n",
      "City603 of 616 complete || serik\n",
      "City604 of 616 complete || arteaga\n",
      "City605 of 616 complete || williamsburg\n",
      "City606 of 616 complete || sao gabriel da cachoeira\n",
      "City607 of 616 complete || piacabucu\n",
      "City608 of 616 complete || hovd\n",
      "City609 of 616 complete || mehran\n",
      "City610 of 616 complete || xuddur\n",
      "City611 of 616 complete || waipawa\n",
      "City612 of 616 complete || brigantine\n",
      "City613 of 616 complete || tocopilla\n",
      "City614 of 616 complete || bartica\n",
      "City615 of 616 complete || campobasso\n",
      "City616 of 616 complete || rocha\n"
     ]
    }
   ],
   "source": [
    "url = \"http://api.openweathermap.org/data/2.5/weather?\"\n",
    "units = 'imperial'\n",
    "city_name = cities \n",
    "query_url = f\"{url}&units={units}&appid={weather_api_key}&q=\"\n",
    "\n",
    "number = 1\n",
    "temp  = []\n",
    "humidity = []\n",
    "cloudiness = []\n",
    "windspeed = []\n",
    "lat = []\n",
    "lng = []\n",
    "cities_data = []\n",
    "country = []\n",
    "dates = []\n",
    "# Loop through the list of cities and perform a request for data on each\n",
    "\n",
    "print('----------------------------------------------------------')\n",
    "print('Start of Records')\n",
    "print('----------------------------------------------------------')\n",
    "\n",
    "\n",
    "for city in cities:\n",
    "    response = requests.get(query_url + city).json()\n",
    "    \n",
    "    try: \n",
    "        temp.append(response['main']['temp'])\n",
    "        humidity.append(response['main']['humidity'])\n",
    "        cloudiness.append(response['clouds']['all'])\n",
    "        windspeed.append(response['wind']['speed'])\n",
    "        lat.append(response['coord']['lat'])\n",
    "        lng.append(response['coord']['lon'])\n",
    "        cities_data.append(response['name'])\n",
    "        country.append(response['sys']['country'])\n",
    "        dates.append (response['dt'])\n",
    "        print(f'City{number} of {len(cities)} complete || {city}')\n",
    "        number = number + 1\n",
    "              \n",
    "    except KeyError:\n",
    "        pass\n",
    "        number = number + 1"
   ]
  },
  {
   "cell_type": "markdown",
   "metadata": {},
   "source": [
    "### Perform API Calls\n",
    "* Perform a weather check on each city using a series of successive API calls.\n",
    "* Include a print log of each city as it'sbeing processed (with the city number and city name).\n"
   ]
  },
  {
   "cell_type": "code",
   "execution_count": 9,
   "metadata": {
    "scrolled": true
   },
   "outputs": [
    {
     "data": {
      "text/html": [
       "<div>\n",
       "<style scoped>\n",
       "    .dataframe tbody tr th:only-of-type {\n",
       "        vertical-align: middle;\n",
       "    }\n",
       "\n",
       "    .dataframe tbody tr th {\n",
       "        vertical-align: top;\n",
       "    }\n",
       "\n",
       "    .dataframe thead th {\n",
       "        text-align: right;\n",
       "    }\n",
       "</style>\n",
       "<table border=\"1\" class=\"dataframe\">\n",
       "  <thead>\n",
       "    <tr style=\"text-align: right;\">\n",
       "      <th></th>\n",
       "      <th>City</th>\n",
       "      <th>Latitude</th>\n",
       "      <th>Longitude</th>\n",
       "      <th>Temperature</th>\n",
       "      <th>Humidity</th>\n",
       "      <th>cloudiness</th>\n",
       "      <th>windspeed</th>\n",
       "      <th>Country</th>\n",
       "      <th>Dates</th>\n",
       "    </tr>\n",
       "  </thead>\n",
       "  <tbody>\n",
       "    <tr>\n",
       "      <th>0</th>\n",
       "      <td>Bredasdorp</td>\n",
       "      <td>-34.5322</td>\n",
       "      <td>20.0403</td>\n",
       "      <td>41.00</td>\n",
       "      <td>93</td>\n",
       "      <td>0</td>\n",
       "      <td>2.30</td>\n",
       "      <td>ZA</td>\n",
       "      <td>1619829914</td>\n",
       "    </tr>\n",
       "    <tr>\n",
       "      <th>1</th>\n",
       "      <td>Cape Town</td>\n",
       "      <td>-33.9258</td>\n",
       "      <td>18.4232</td>\n",
       "      <td>56.73</td>\n",
       "      <td>82</td>\n",
       "      <td>0</td>\n",
       "      <td>9.22</td>\n",
       "      <td>ZA</td>\n",
       "      <td>1619829914</td>\n",
       "    </tr>\n",
       "    <tr>\n",
       "      <th>2</th>\n",
       "      <td>Dikson</td>\n",
       "      <td>73.5069</td>\n",
       "      <td>80.5464</td>\n",
       "      <td>16.39</td>\n",
       "      <td>96</td>\n",
       "      <td>99</td>\n",
       "      <td>7.61</td>\n",
       "      <td>RU</td>\n",
       "      <td>1619829915</td>\n",
       "    </tr>\n",
       "    <tr>\n",
       "      <th>3</th>\n",
       "      <td>Zhezkazgan</td>\n",
       "      <td>47.8043</td>\n",
       "      <td>67.7144</td>\n",
       "      <td>47.17</td>\n",
       "      <td>44</td>\n",
       "      <td>0</td>\n",
       "      <td>5.97</td>\n",
       "      <td>KZ</td>\n",
       "      <td>1619829915</td>\n",
       "    </tr>\n",
       "    <tr>\n",
       "      <th>4</th>\n",
       "      <td>Pandan</td>\n",
       "      <td>14.0453</td>\n",
       "      <td>124.1694</td>\n",
       "      <td>82.89</td>\n",
       "      <td>63</td>\n",
       "      <td>8</td>\n",
       "      <td>1.59</td>\n",
       "      <td>PH</td>\n",
       "      <td>1619829915</td>\n",
       "    </tr>\n",
       "  </tbody>\n",
       "</table>\n",
       "</div>"
      ],
      "text/plain": [
       "         City  Latitude  Longitude  Temperature  Humidity  cloudiness  \\\n",
       "0  Bredasdorp  -34.5322    20.0403        41.00        93           0   \n",
       "1   Cape Town  -33.9258    18.4232        56.73        82           0   \n",
       "2      Dikson   73.5069    80.5464        16.39        96          99   \n",
       "3  Zhezkazgan   47.8043    67.7144        47.17        44           0   \n",
       "4      Pandan   14.0453   124.1694        82.89        63           8   \n",
       "\n",
       "   windspeed Country       Dates  \n",
       "0       2.30      ZA  1619829914  \n",
       "1       9.22      ZA  1619829914  \n",
       "2       7.61      RU  1619829915  \n",
       "3       5.97      KZ  1619829915  \n",
       "4       1.59      PH  1619829915  "
      ]
     },
     "execution_count": 9,
     "metadata": {},
     "output_type": "execute_result"
    }
   ],
   "source": [
    "weather_df = pd.DataFrame({'City': cities_data, \n",
    "                             'Latitude': lat,\n",
    "                            'Longitude': lng, \n",
    "                           'Temperature': temp, \n",
    "                           'Humidity': humidity,\n",
    "                           'cloudiness': cloudiness,\n",
    "                           'windspeed': windspeed, \n",
    "                          'Country': country, \n",
    "                          'Dates': dates})\n",
    "\n",
    "weather_df. head()"
   ]
  },
  {
   "cell_type": "markdown",
   "metadata": {},
   "source": [
    "### Convert Raw Data to DataFrame\n",
    "* Export the city data into a .csv.\n",
    "* Display the DataFrame"
   ]
  },
  {
   "cell_type": "code",
   "execution_count": 10,
   "metadata": {},
   "outputs": [
    {
     "data": {
      "text/html": [
       "<div>\n",
       "<style scoped>\n",
       "    .dataframe tbody tr th:only-of-type {\n",
       "        vertical-align: middle;\n",
       "    }\n",
       "\n",
       "    .dataframe tbody tr th {\n",
       "        vertical-align: top;\n",
       "    }\n",
       "\n",
       "    .dataframe thead th {\n",
       "        text-align: right;\n",
       "    }\n",
       "</style>\n",
       "<table border=\"1\" class=\"dataframe\">\n",
       "  <thead>\n",
       "    <tr style=\"text-align: right;\">\n",
       "      <th></th>\n",
       "      <th>City</th>\n",
       "      <th>Latitude</th>\n",
       "      <th>Longitude</th>\n",
       "      <th>Temperature</th>\n",
       "      <th>Humidity</th>\n",
       "      <th>cloudiness</th>\n",
       "      <th>windspeed</th>\n",
       "      <th>Country</th>\n",
       "      <th>Dates</th>\n",
       "    </tr>\n",
       "  </thead>\n",
       "  <tbody>\n",
       "    <tr>\n",
       "      <th>0</th>\n",
       "      <td>Bredasdorp</td>\n",
       "      <td>-34.5322</td>\n",
       "      <td>20.0403</td>\n",
       "      <td>41.00</td>\n",
       "      <td>93</td>\n",
       "      <td>0</td>\n",
       "      <td>2.30</td>\n",
       "      <td>ZA</td>\n",
       "      <td>1619829914</td>\n",
       "    </tr>\n",
       "    <tr>\n",
       "      <th>1</th>\n",
       "      <td>Cape Town</td>\n",
       "      <td>-33.9258</td>\n",
       "      <td>18.4232</td>\n",
       "      <td>56.73</td>\n",
       "      <td>82</td>\n",
       "      <td>0</td>\n",
       "      <td>9.22</td>\n",
       "      <td>ZA</td>\n",
       "      <td>1619829914</td>\n",
       "    </tr>\n",
       "    <tr>\n",
       "      <th>2</th>\n",
       "      <td>Dikson</td>\n",
       "      <td>73.5069</td>\n",
       "      <td>80.5464</td>\n",
       "      <td>16.39</td>\n",
       "      <td>96</td>\n",
       "      <td>99</td>\n",
       "      <td>7.61</td>\n",
       "      <td>RU</td>\n",
       "      <td>1619829915</td>\n",
       "    </tr>\n",
       "    <tr>\n",
       "      <th>3</th>\n",
       "      <td>Zhezkazgan</td>\n",
       "      <td>47.8043</td>\n",
       "      <td>67.7144</td>\n",
       "      <td>47.17</td>\n",
       "      <td>44</td>\n",
       "      <td>0</td>\n",
       "      <td>5.97</td>\n",
       "      <td>KZ</td>\n",
       "      <td>1619829915</td>\n",
       "    </tr>\n",
       "    <tr>\n",
       "      <th>4</th>\n",
       "      <td>Pandan</td>\n",
       "      <td>14.0453</td>\n",
       "      <td>124.1694</td>\n",
       "      <td>82.89</td>\n",
       "      <td>63</td>\n",
       "      <td>8</td>\n",
       "      <td>1.59</td>\n",
       "      <td>PH</td>\n",
       "      <td>1619829915</td>\n",
       "    </tr>\n",
       "  </tbody>\n",
       "</table>\n",
       "</div>"
      ],
      "text/plain": [
       "         City  Latitude  Longitude  Temperature  Humidity  cloudiness  \\\n",
       "0  Bredasdorp  -34.5322    20.0403        41.00        93           0   \n",
       "1   Cape Town  -33.9258    18.4232        56.73        82           0   \n",
       "2      Dikson   73.5069    80.5464        16.39        96          99   \n",
       "3  Zhezkazgan   47.8043    67.7144        47.17        44           0   \n",
       "4      Pandan   14.0453   124.1694        82.89        63           8   \n",
       "\n",
       "   windspeed Country       Dates  \n",
       "0       2.30      ZA  1619829914  \n",
       "1       9.22      ZA  1619829914  \n",
       "2       7.61      RU  1619829915  \n",
       "3       5.97      KZ  1619829915  \n",
       "4       1.59      PH  1619829915  "
      ]
     },
     "execution_count": 10,
     "metadata": {},
     "output_type": "execute_result"
    }
   ],
   "source": [
    "pd.DataFrame.to_csv(weather_df, 'weather_data.csv')\n",
    "\n",
    "weather_df.head(5)"
   ]
  },
  {
   "cell_type": "code",
   "execution_count": 11,
   "metadata": {},
   "outputs": [
    {
     "data": {
      "text/html": [
       "<div>\n",
       "<style scoped>\n",
       "    .dataframe tbody tr th:only-of-type {\n",
       "        vertical-align: middle;\n",
       "    }\n",
       "\n",
       "    .dataframe tbody tr th {\n",
       "        vertical-align: top;\n",
       "    }\n",
       "\n",
       "    .dataframe thead th {\n",
       "        text-align: right;\n",
       "    }\n",
       "</style>\n",
       "<table border=\"1\" class=\"dataframe\">\n",
       "  <thead>\n",
       "    <tr style=\"text-align: right;\">\n",
       "      <th></th>\n",
       "      <th>Latitude</th>\n",
       "      <th>Longitude</th>\n",
       "      <th>Temperature</th>\n",
       "      <th>Humidity</th>\n",
       "      <th>cloudiness</th>\n",
       "      <th>windspeed</th>\n",
       "      <th>Dates</th>\n",
       "    </tr>\n",
       "  </thead>\n",
       "  <tbody>\n",
       "    <tr>\n",
       "      <th>count</th>\n",
       "      <td>570.000000</td>\n",
       "      <td>570.000000</td>\n",
       "      <td>570.000000</td>\n",
       "      <td>570.000000</td>\n",
       "      <td>570.000000</td>\n",
       "      <td>570.000000</td>\n",
       "      <td>5.700000e+02</td>\n",
       "    </tr>\n",
       "    <tr>\n",
       "      <th>mean</th>\n",
       "      <td>19.239198</td>\n",
       "      <td>16.439224</td>\n",
       "      <td>61.005316</td>\n",
       "      <td>69.784211</td>\n",
       "      <td>54.949123</td>\n",
       "      <td>7.811895</td>\n",
       "      <td>1.619830e+09</td>\n",
       "    </tr>\n",
       "    <tr>\n",
       "      <th>std</th>\n",
       "      <td>33.590925</td>\n",
       "      <td>89.560453</td>\n",
       "      <td>17.831978</td>\n",
       "      <td>22.065427</td>\n",
       "      <td>40.166865</td>\n",
       "      <td>5.470777</td>\n",
       "      <td>9.422566e+01</td>\n",
       "    </tr>\n",
       "    <tr>\n",
       "      <th>min</th>\n",
       "      <td>-54.800000</td>\n",
       "      <td>-175.200000</td>\n",
       "      <td>12.200000</td>\n",
       "      <td>1.000000</td>\n",
       "      <td>0.000000</td>\n",
       "      <td>0.130000</td>\n",
       "      <td>1.619830e+09</td>\n",
       "    </tr>\n",
       "    <tr>\n",
       "      <th>25%</th>\n",
       "      <td>-8.717250</td>\n",
       "      <td>-63.893625</td>\n",
       "      <td>47.327500</td>\n",
       "      <td>59.000000</td>\n",
       "      <td>13.000000</td>\n",
       "      <td>3.722500</td>\n",
       "      <td>1.619830e+09</td>\n",
       "    </tr>\n",
       "    <tr>\n",
       "      <th>50%</th>\n",
       "      <td>21.862600</td>\n",
       "      <td>20.453500</td>\n",
       "      <td>64.365000</td>\n",
       "      <td>74.000000</td>\n",
       "      <td>67.000000</td>\n",
       "      <td>6.820000</td>\n",
       "      <td>1.619830e+09</td>\n",
       "    </tr>\n",
       "    <tr>\n",
       "      <th>75%</th>\n",
       "      <td>48.004200</td>\n",
       "      <td>93.275000</td>\n",
       "      <td>76.630000</td>\n",
       "      <td>86.000000</td>\n",
       "      <td>98.750000</td>\n",
       "      <td>10.442500</td>\n",
       "      <td>1.619830e+09</td>\n",
       "    </tr>\n",
       "    <tr>\n",
       "      <th>max</th>\n",
       "      <td>78.218600</td>\n",
       "      <td>178.416700</td>\n",
       "      <td>92.210000</td>\n",
       "      <td>100.000000</td>\n",
       "      <td>100.000000</td>\n",
       "      <td>28.810000</td>\n",
       "      <td>1.619830e+09</td>\n",
       "    </tr>\n",
       "  </tbody>\n",
       "</table>\n",
       "</div>"
      ],
      "text/plain": [
       "         Latitude   Longitude  Temperature    Humidity  cloudiness  \\\n",
       "count  570.000000  570.000000   570.000000  570.000000  570.000000   \n",
       "mean    19.239198   16.439224    61.005316   69.784211   54.949123   \n",
       "std     33.590925   89.560453    17.831978   22.065427   40.166865   \n",
       "min    -54.800000 -175.200000    12.200000    1.000000    0.000000   \n",
       "25%     -8.717250  -63.893625    47.327500   59.000000   13.000000   \n",
       "50%     21.862600   20.453500    64.365000   74.000000   67.000000   \n",
       "75%     48.004200   93.275000    76.630000   86.000000   98.750000   \n",
       "max     78.218600  178.416700    92.210000  100.000000  100.000000   \n",
       "\n",
       "        windspeed         Dates  \n",
       "count  570.000000  5.700000e+02  \n",
       "mean     7.811895  1.619830e+09  \n",
       "std      5.470777  9.422566e+01  \n",
       "min      0.130000  1.619830e+09  \n",
       "25%      3.722500  1.619830e+09  \n",
       "50%      6.820000  1.619830e+09  \n",
       "75%     10.442500  1.619830e+09  \n",
       "max     28.810000  1.619830e+09  "
      ]
     },
     "execution_count": 11,
     "metadata": {},
     "output_type": "execute_result"
    }
   ],
   "source": [
    "weather_df.describe()"
   ]
  },
  {
   "cell_type": "markdown",
   "metadata": {},
   "source": [
    "## Plotting the Data\n",
    "* Use proper labeling of the plots using plot titles (including date of analysis) and axes labels.\n",
    "* Save the plotted figures as .pngs."
   ]
  },
  {
   "cell_type": "markdown",
   "metadata": {},
   "source": [
    "## Latitude vs. Temperature Plot"
   ]
  },
  {
   "cell_type": "code",
   "execution_count": 12,
   "metadata": {
    "scrolled": true
   },
   "outputs": [
    {
     "data": {
      "image/png": "[encoded data removed]",
      "text/plain": [
       "<Figure size 432x288 with 1 Axes>"
      ]
     },
     "metadata": {
      "needs_background": "light"
     },
     "output_type": "display_data"
    }
   ],
   "source": [
    "# Build a scatter plot for each data type\n",
    "plt.scatter(weather_df[\"Latitude\"], weather_df[\"Temperature\"], marker=\"o\")\n",
    "\n",
    "# Incorporate the other graph properties\n",
    "plt.title(\"Temperature vs. Latitude\")\n",
    "plt.ylabel(\"Temperature (Celsius)\")\n",
    "plt.xlabel(\"Latitude\")\n",
    "plt.grid(True)\n",
    "\n",
    "#save as image\n",
    "plt.savefig(\"../Images/Temp_Lat\")\n",
    "\n",
    "# Show plot\n",
    "plt.show()"
   ]
  },
  {
   "cell_type": "markdown",
   "metadata": {},
   "source": [
    "## Latitude vs. Humidity Plot"
   ]
  },
  {
   "cell_type": "code",
   "execution_count": 13,
   "metadata": {},
   "outputs": [
    {
     "data": {
      "image/png": "[encoded data removed]",
      "text/plain": [
       "<Figure size 432x288 with 1 Axes>"
      ]
     },
     "metadata": {
      "needs_background": "light"
     },
     "output_type": "display_data"
    }
   ],
   "source": [
    "# Build a scatter plot for each data type\n",
    "plt.scatter(weather_df[\"Latitude\"], weather_df[\"Humidity\"], marker=\"o\")\n",
    "\n",
    "# Incorporate the other graph properties\n",
    "plt.title(\"City Latitude vs. Humidity\")\n",
    "plt.ylabel(\"Humidity\")\n",
    "plt.xlabel(\"Latitude\")\n",
    "plt.grid(True)\n",
    "\n",
    "#save as image\n",
    "plt.savefig(\"../Images/Humidity_Lat\")\n",
    "\n",
    "# Show plot\n",
    "plt.show()"
   ]
  },
  {
   "cell_type": "markdown",
   "metadata": {},
   "source": [
    "## Latitude vs. Cloudiness Plot"
   ]
  },
  {
   "cell_type": "code",
   "execution_count": 14,
   "metadata": {},
   "outputs": [
    {
     "data": {
      "image/png": "[encoded data removed]",
      "text/plain": [
       "<Figure size 432x288 with 1 Axes>"
      ]
     },
     "metadata": {
      "needs_background": "light"
     },
     "output_type": "display_data"
    }
   ],
   "source": [
    "# Build a scatter plot for each data type\n",
    "plt.scatter(weather_df[\"Latitude\"], weather_df[\"cloudiness\"], marker=\"o\")\n",
    "\n",
    "# Incorporate the other graph properties\n",
    "plt.title(\"City Latitude vs. Cloudiness\")\n",
    "plt.ylabel(\"Cloudiness\")\n",
    "plt.xlabel(\"Latitidue\")\n",
    "plt.grid(True)\n",
    "\n",
    "#save as image\n",
    "plt.savefig(\"../Images/cloudiness_Lat\")\n",
    "\n",
    "# Show plot\n",
    "plt.show()"
   ]
  },
  {
   "cell_type": "markdown",
   "metadata": {},
   "source": [
    "## Latitude vs. Wind Speed Plot"
   ]
  },
  {
   "cell_type": "code",
   "execution_count": 15,
   "metadata": {},
   "outputs": [
    {
     "data": {
      "image/png": "[encoded data removed]",
      "text/plain": [
       "<Figure size 432x288 with 1 Axes>"
      ]
     },
     "metadata": {
      "needs_background": "light"
     },
     "output_type": "display_data"
    }
   ],
   "source": [
    "# Build a scatter plot for each data type\n",
    "plt.scatter(weather_df[\"Latitude\"], weather_df[\"windspeed\"], marker=\"o\")\n",
    "\n",
    "# Incorporate the other graph properties\n",
    "plt.title(\"City Latitude vs. windspeed\")\n",
    "plt.ylabel(\"Cloudiness\")\n",
    "plt.xlabel(\"Latitidue\")\n",
    "plt.grid(True)\n",
    "\n",
    "#save as image\n",
    "plt.savefig(\"../Images/windspeed_Lat\")\n",
    "\n",
    "# Show plot\n",
    "plt.show()"
   ]
  },
  {
   "cell_type": "markdown",
   "metadata": {},
   "source": [
    "## Linear Regression"
   ]
  },
  {
   "cell_type": "code",
   "execution_count": 16,
   "metadata": {},
   "outputs": [],
   "source": [
    "north_hemi = weather_df.loc[weather_df['Latitude']>=0]\n",
    "south_hemi = weather_df.loc[weather_df['Latitude']<0]"
   ]
  },
  {
   "cell_type": "markdown",
   "metadata": {},
   "source": [
    "####  Northern Hemisphere - Max Temp vs. Latitude Linear Regression"
   ]
  },
  {
   "cell_type": "code",
   "execution_count": 17,
   "metadata": {},
   "outputs": [
    {
     "name": "stdout",
     "output_type": "stream",
     "text": [
      "y=-0.84x+89.92\n",
      "The r-value is: 0.7688684397976255\n"
     ]
    },
    {
     "data": {
      "image/png": "[encoded data removed]",
      "text/plain": [
       "<Figure size 432x288 with 1 Axes>"
      ]
     },
     "metadata": {
      "needs_background": "light"
     },
     "output_type": "display_data"
    }
   ],
   "source": [
    "x_values=north_hemi[\"Latitude\"]\n",
    "y_values =north_hemi[\"Temperature\"]\n",
    "\n",
    "\n",
    "\n",
    "(slope, intercept, rvalue, pvalue, stderr) = linregress(x_values,y_values)\n",
    "regress_values = x_values* slope + intercept\n",
    "line_eq = \"y=\" + str(round(slope,2)) + \"x+\" + str(round(intercept,2))\n",
    "print(line_eq)\n",
    "plt.scatter(x_values,y_values)\n",
    "\n",
    "plt.xlabel(\"Latitude\")\n",
    "plt.ylabel(\"Max Temp\")\n",
    "plt.title (\"Northern Hemisphere Latitude vs. Max Temp\")\n",
    "\n",
    "plt.plot(x_values, regress_values, \"r-\")\n",
    "plt.annotate(line_eq, (20,36), fontsize=15,color=\"red\")\n",
    "print(f\"The r-value is: {rvalue**2}\")           \n",
    " \n",
    "    #save as image\n",
    "plt.savefig(\"../Images/Northern_lat_temp\")\n",
    "    \n",
    "plt.show()"
   ]
  },
  {
   "cell_type": "markdown",
   "metadata": {},
   "source": [
    "####  Southern Hemisphere - Max Temp vs. Latitude Linear Regression"
   ]
  },
  {
   "cell_type": "code",
   "execution_count": 18,
   "metadata": {},
   "outputs": [
    {
     "name": "stdout",
     "output_type": "stream",
     "text": [
      "y=0.53x+79.95\n",
      "The r-value is: 0.45091994357149806\n"
     ]
    },
    {
     "data": {
      "image/png": "[encoded data removed]",
      "text/plain": [
       "<Figure size 432x288 with 1 Axes>"
      ]
     },
     "metadata": {
      "needs_background": "light"
     },
     "output_type": "display_data"
    }
   ],
   "source": [
    "x_values=south_hemi[\"Latitude\"]\n",
    "y_values =south_hemi[\"Temperature\"]\n",
    "\n",
    "\n",
    "\n",
    "(slope, intercept, rvalue, pvalue, stderr) = linregress(x_values,y_values)\n",
    "regress_values = x_values* slope + intercept\n",
    "line_eq = \"y=\" + str(round(slope,2)) + \"x+\" + str(round(intercept,2))\n",
    "print(line_eq)\n",
    "plt.scatter(x_values,y_values)\n",
    "\n",
    "plt.xlabel(\"Latitude\")\n",
    "plt.ylabel(\"Max Temp\")\n",
    "plt.title (\"Southern Hemisphere Latitude vs. Max Temp\")\n",
    "\n",
    "plt.plot(x_values, regress_values, \"r-\")\n",
    "plt.annotate(line_eq, (20,36), fontsize=15,color=\"red\")\n",
    "print(f\"The r-value is: {rvalue**2}\")           \n",
    "\n",
    "\n",
    "#save as image\n",
    "plt.savefig(\"../Images/southern_lat_temp\")\n",
    "\n",
    "\n",
    "plt.show()"
   ]
  },
  {
   "cell_type": "markdown",
   "metadata": {},
   "source": [
    "It appears that both the Northern and Southern Hemisphere has a strong correlation with temperature. The northern hemisphere has an r value of 0.76 and the southern hemisphere has an r value of 0.50 which are both relatively strong. Both show that the closer you are to 0 latitude (equator) the warmer the temperature. "
   ]
  },
  {
   "cell_type": "markdown",
   "metadata": {},
   "source": [
    "####  Northern Hemisphere - Humidity (%) vs. Latitude Linear Regression"
   ]
  },
  {
   "cell_type": "code",
   "execution_count": 19,
   "metadata": {},
   "outputs": [
    {
     "name": "stdout",
     "output_type": "stream",
     "text": [
      "y=0.03x+66.34\n",
      "The r-value is: 0.0005480172059543726\n"
     ]
    },
    {
     "data": {
      "image/png": "[encoded data removed]",
      "text/plain": [
       "<Figure size 432x288 with 1 Axes>"
      ]
     },
     "metadata": {
      "needs_background": "light"
     },
     "output_type": "display_data"
    }
   ],
   "source": [
    "x_values=north_hemi[\"Latitude\"]\n",
    "y_values =north_hemi[\"Humidity\"]\n",
    "\n",
    "\n",
    "\n",
    "(slope, intercept, rvalue, pvalue, stderr) = linregress(x_values,y_values)\n",
    "regress_values = x_values* slope + intercept\n",
    "line_eq = \"y=\" + str(round(slope,2)) + \"x+\" + str(round(intercept,2))\n",
    "print(line_eq)\n",
    "plt.scatter(x_values,y_values)\n",
    "\n",
    "plt.xlabel(\"Latitude\")\n",
    "plt.ylabel(\"Humidity\")\n",
    "plt.title (\"Northern Hemisphere Latitude vs. Humidity\")\n",
    "\n",
    "plt.plot(x_values, regress_values, \"r-\")\n",
    "plt.annotate(line_eq, (20,36), fontsize=15,color=\"red\")\n",
    "print(f\"The r-value is: {rvalue**2}\")           \n",
    " \n",
    "    \n",
    "#save as image\n",
    "plt.savefig(\"../Images/northern_lat_humidity\")    \n",
    "    \n",
    "plt.show()"
   ]
  },
  {
   "cell_type": "markdown",
   "metadata": {},
   "source": [
    "####  Southern Hemisphere - Humidity (%) vs. Latitude Linear Regression"
   ]
  },
  {
   "cell_type": "code",
   "execution_count": 20,
   "metadata": {},
   "outputs": [
    {
     "name": "stdout",
     "output_type": "stream",
     "text": [
      "y=0.35x+82.78\n",
      "The r-value is: 0.08131988720515947\n"
     ]
    },
    {
     "data": {
      "image/png": "[encoded data removed]",
      "text/plain": [
       "<Figure size 432x288 with 1 Axes>"
      ]
     },
     "metadata": {
      "needs_background": "light"
     },
     "output_type": "display_data"
    }
   ],
   "source": [
    "x_values=south_hemi[\"Latitude\"]\n",
    "y_values =south_hemi[\"Humidity\"]\n",
    "\n",
    "\n",
    "\n",
    "(slope, intercept, rvalue, pvalue, stderr) = linregress(x_values,y_values)\n",
    "regress_values = x_values* slope + intercept\n",
    "line_eq = \"y=\" + str(round(slope,2)) + \"x+\" + str(round(intercept,2))\n",
    "print(line_eq)\n",
    "plt.scatter(x_values,y_values)\n",
    "\n",
    "plt.xlabel(\"Latitude\")\n",
    "plt.ylabel(\"Humidity\")\n",
    "plt.title (\"Southern Hemisphere Latitude vs. Humidity\")\n",
    "\n",
    "plt.plot(x_values, regress_values, \"r-\")\n",
    "plt.annotate(line_eq, (20,36), fontsize=15,color=\"red\")\n",
    "print(f\"The r-value is: {rvalue**2}\")           \n",
    "\n",
    "#save as image\n",
    "plt.savefig(\"../Images/southern_lat_humidity\")\n",
    "\n",
    "\n",
    "plt.show()"
   ]
  },
  {
   "cell_type": "markdown",
   "metadata": {},
   "source": [
    "Both northern and southern hemisphere show very weak relationships between latitude and humidity with r values at 0.02 and 0.03."
   ]
  },
  {
   "cell_type": "markdown",
   "metadata": {},
   "source": [
    "####  Northern Hemisphere - Cloudiness (%) vs. Latitude Linear Regression"
   ]
  },
  {
   "cell_type": "code",
   "execution_count": 21,
   "metadata": {},
   "outputs": [
    {
     "name": "stdout",
     "output_type": "stream",
     "text": [
      "y=0.15x+50.85\n",
      "The r-value is: 0.005727428748007593\n"
     ]
    },
    {
     "data": {
      "image/png": "[encoded data removed]",
      "text/plain": [
       "<Figure size 432x288 with 1 Axes>"
      ]
     },
     "metadata": {
      "needs_background": "light"
     },
     "output_type": "display_data"
    }
   ],
   "source": [
    "x_values=north_hemi[\"Latitude\"]\n",
    "y_values =north_hemi[\"cloudiness\"]\n",
    "\n",
    "\n",
    "\n",
    "(slope, intercept, rvalue, pvalue, stderr) = linregress(x_values,y_values)\n",
    "regress_values = x_values* slope + intercept\n",
    "line_eq = \"y=\" + str(round(slope,2)) + \"x+\" + str(round(intercept,2))\n",
    "print(line_eq)\n",
    "plt.scatter(x_values,y_values)\n",
    "\n",
    "plt.xlabel(\"Latitude\")\n",
    "plt.ylabel(\"Cloudiness\")\n",
    "plt.title (\"Northern Hemisphere Latitude vs. Cloudiness\")\n",
    "\n",
    "plt.plot(x_values, regress_values, \"r-\")\n",
    "plt.annotate(line_eq, (20,36), fontsize=15,color=\"red\")\n",
    "print(f\"The r-value is: {rvalue**2}\")           \n",
    " \n",
    "    \n",
    "#save as image\n",
    "plt.savefig(\"../Images/northern_lat_cloudiness\")      \n",
    "    \n",
    "plt.show()"
   ]
  },
  {
   "cell_type": "markdown",
   "metadata": {},
   "source": [
    "####  Southern Hemisphere - Cloudiness (%) vs. Latitude Linear Regression"
   ]
  },
  {
   "cell_type": "code",
   "execution_count": 22,
   "metadata": {},
   "outputs": [
    {
     "name": "stdout",
     "output_type": "stream",
     "text": [
      "y=0.21x+56.24\n",
      "The r-value is: 0.004567730573776334\n"
     ]
    },
    {
     "data": {
      "image/png": "[encoded data removed]",
      "text/plain": [
       "<Figure size 432x288 with 1 Axes>"
      ]
     },
     "metadata": {
      "needs_background": "light"
     },
     "output_type": "display_data"
    }
   ],
   "source": [
    "x_values=south_hemi[\"Latitude\"]\n",
    "y_values =south_hemi[\"cloudiness\"]\n",
    "\n",
    "\n",
    "\n",
    "(slope, intercept, rvalue, pvalue, stderr) = linregress(x_values,y_values)\n",
    "regress_values = x_values* slope + intercept\n",
    "line_eq = \"y=\" + str(round(slope,2)) + \"x+\" + str(round(intercept,2))\n",
    "print(line_eq)\n",
    "plt.scatter(x_values,y_values)\n",
    "\n",
    "plt.xlabel(\"Latitude\")\n",
    "plt.ylabel(\"Humidity\")\n",
    "plt.title (\"Southern Hemisphere Latitude vs. Cloudiness\")\n",
    "\n",
    "plt.plot(x_values, regress_values, \"r-\")\n",
    "plt.annotate(line_eq, (20,36), fontsize=15,color=\"red\")\n",
    "print(f\"The r-value is: {rvalue**2}\")           \n",
    "\n",
    "#save as image\n",
    "plt.savefig(\"../Images/southern_lat_tcloudiness\")\n",
    "\n",
    "\n",
    "plt.show()"
   ]
  },
  {
   "cell_type": "markdown",
   "metadata": {},
   "source": [
    "Latitude and cloudiness also show little to no relationship with very low r-values. "
   ]
  },
  {
   "cell_type": "markdown",
   "metadata": {},
   "source": [
    "####  Northern Hemisphere - Wind Speed (mph) vs. Latitude Linear Regression"
   ]
  },
  {
   "cell_type": "code",
   "execution_count": 23,
   "metadata": {},
   "outputs": [
    {
     "name": "stdout",
     "output_type": "stream",
     "text": [
      "y=0.05x+6.1\n",
      "The r-value is: 0.03749364748748766\n"
     ]
    },
    {
     "data": {
      "image/png": "[encoded data removed]",
      "text/plain": [
       "<Figure size 432x288 with 1 Axes>"
      ]
     },
     "metadata": {
      "needs_background": "light"
     },
     "output_type": "display_data"
    }
   ],
   "source": [
    "x_values=north_hemi[\"Latitude\"]\n",
    "y_values =north_hemi[\"windspeed\"]\n",
    "\n",
    "\n",
    "\n",
    "(slope, intercept, rvalue, pvalue, stderr) = linregress(x_values,y_values)\n",
    "regress_values = x_values* slope + intercept\n",
    "line_eq = \"y=\" + str(round(slope,2)) + \"x+\" + str(round(intercept,2))\n",
    "print(line_eq)\n",
    "plt.scatter(x_values,y_values)\n",
    "\n",
    "plt.xlabel(\"Latitude\")\n",
    "plt.ylabel(\"Wind Speed(mph)\")\n",
    "plt.title (\"Northern Hemisphere Latitude vs. Wind Speed (mph)\")\n",
    "\n",
    "plt.plot(x_values, regress_values, \"r-\")\n",
    "plt.annotate(line_eq, (20,36), fontsize=15,color=\"red\")\n",
    "print(f\"The r-value is: {rvalue**2}\")           \n",
    " \n",
    "\n",
    "    \n",
    "#save as image\n",
    "plt.savefig(\"../Images/northern_lat_windspeed\")        \n",
    "    \n",
    "\n",
    "plt.show()"
   ]
  },
  {
   "cell_type": "markdown",
   "metadata": {},
   "source": [
    "####  Southern Hemisphere - Wind Speed (mph) vs. Latitude Linear Regression"
   ]
  },
  {
   "cell_type": "code",
   "execution_count": 24,
   "metadata": {},
   "outputs": [
    {
     "name": "stdout",
     "output_type": "stream",
     "text": [
      "y=-0.11x+4.66\n",
      "The r-value is: 0.08720394306512755\n"
     ]
    },
    {
     "data": {
      "image/png": "[encoded data removed]",
      "text/plain": [
       "<Figure size 432x288 with 1 Axes>"
      ]
     },
     "metadata": {
      "needs_background": "light"
     },
     "output_type": "display_data"
    }
   ],
   "source": [
    "x_values=south_hemi[\"Latitude\"]\n",
    "y_values =south_hemi[\"windspeed\"]\n",
    "\n",
    "\n",
    "\n",
    "(slope, intercept, rvalue, pvalue, stderr) = linregress(x_values,y_values)\n",
    "regress_values = x_values* slope + intercept\n",
    "line_eq = \"y=\" + str(round(slope,2)) + \"x+\" + str(round(intercept,2))\n",
    "print(line_eq)\n",
    "plt.scatter(x_values,y_values)\n",
    "\n",
    "plt.xlabel(\"Latitude\")\n",
    "plt.ylabel(\"Wind Speed(mph)\")\n",
    "plt.title (\"Southern Hemisphere Latitude vs. Wind Speed (mph)\")\n",
    "\n",
    "plt.plot(x_values, regress_values, \"r-\")\n",
    "plt.annotate(line_eq, (20,36), fontsize=15,color=\"red\")\n",
    "print(f\"The r-value is: {rvalue**2}\")           \n",
    "\n",
    "#save as image\n",
    "plt.savefig(\"../Images/southern_lat_windspeed\")\n",
    "\n",
    "\n",
    "plt.show()"
   ]
  },
  {
   "cell_type": "markdown",
   "metadata": {},
   "source": [
    "The northern hemisphere shows almost no relationship with latitude and windspeed and the southern hemisphere has an incredibly weak relationship."
   ]
  },
  {
   "cell_type": "code",
   "execution_count": null,
   "metadata": {},
   "outputs": [],
   "source": []
  }
 ],
 "metadata": {
  "anaconda-cloud": {},
  "kernel_info": {
   "name": "python3"
  },
  "kernelspec": {
   "display_name": "Python 3",
   "language": "python",
   "name": "python3"
  },
  "language_info": {
   "codemirror_mode": {
    "name": "ipython",
    "version": 3
   },
   "file_extension": ".py",
   "mimetype": "text/x-python",
   "name": "python",
   "nbconvert_exporter": "python",
   "pygments_lexer": "ipython3",
   "version": "3.8.5"
  },
  "latex_envs": {
   "LaTeX_envs_menu_present": true,
   "autoclose": false,
   "autocomplete": true,
   "bibliofile": "biblio.bib",
   "cite_by": "apalike",
   "current_citInitial": 1,
   "eqLabelWithNumbers": true,
   "eqNumInitial": 1,
   "hotkeys": {
    "equation": "Ctrl-E",
    "itemize": "Ctrl-I"
   },
   "labels_anchors": false,
   "latex_user_defs": false,
   "report_style_numbering": false,
   "user_envs_cfg": false
  },
  "nteract": {
   "version": "0.12.3"
  }
 },
 "nbformat": 4,
 "nbformat_minor": 2
}
